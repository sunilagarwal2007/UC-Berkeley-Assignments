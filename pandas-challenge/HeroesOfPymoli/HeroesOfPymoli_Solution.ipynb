{
 "cells": [
  {
   "cell_type": "markdown",
   "metadata": {},
   "source": [
    "### Heroes Of Pymoli Data Analysis\n",
    "* Of the 1163 active players, the vast majority are male (84%). There also exists, a smaller, but notable proportion of female players (14%).\n",
    "\n",
    "* Our peak age demographic falls between 20-24 (44.8%) with secondary groups falling between 15-19 (18.60%) and 25-29 (13.4%).  \n",
    "-----"
   ]
  },
  {
   "cell_type": "markdown",
   "metadata": {},
   "source": [
    "### Note\n",
    "* Instructions have been included for each segment. You do not have to follow them exactly, but they are included to help you think through the steps."
   ]
  },
  {
   "cell_type": "code",
   "execution_count": null,
   "metadata": {},
   "outputs": [],
   "source": [
    "# Dependencies and Setup\n",
    "import pandas as pd\n",
    "import numpy as np\n",
    "\n",
    "# File to Load (Remember to Change These)\n",
    "file_to_load = \"Resources/purchase_data.csv\"\n",
    "\n",
    "# Read Purchasing File and store into Pandas data frame\n",
    "purchase_data_df = pd.read_csv(file_to_load, encoding=\"utf-8\")"
   ]
  },
  {
   "cell_type": "markdown",
   "metadata": {},
   "source": [
    "## Player Count"
   ]
  },
  {
   "cell_type": "markdown",
   "metadata": {},
   "source": [
    "* Display the total number of players\n"
   ]
  },
  {
   "cell_type": "code",
   "execution_count": null,
   "metadata": {},
   "outputs": [],
   "source": [
    "#Display the total number of players\n",
    "player_count = len(purchase_data_df[\"SN\"].unique())\n",
    "#Place all the data into player count dataframe\n",
    "player_count_table = pd.DataFrame({\"Total Players\":[player_count]})\n",
    "player_count_table"
   ]
  },
  {
   "cell_type": "markdown",
   "metadata": {},
   "source": [
    "## Purchasing Analysis (Total)"
   ]
  },
  {
   "cell_type": "markdown",
   "metadata": {},
   "source": [
    "* Run basic calculations to obtain number of unique items, average price, etc.\n",
    "\n",
    "\n",
    "* Create a summary data frame to hold the results\n",
    "\n",
    "\n",
    "* Optional: give the displayed data cleaner formatting\n",
    "\n",
    "\n",
    "* Display the summary data frame\n"
   ]
  },
  {
   "cell_type": "code",
   "execution_count": null,
   "metadata": {},
   "outputs": [],
   "source": [
    "#Obtain number of unique items\n",
    "unique_items = len(purchase_data_df[\"Item ID\"].unique())\n",
    "number_of_purchases = purchase_data_df[\"Purchase ID\"].count()\n",
    "#Obtain average price\n",
    "average_price = purchase_data_df[\"Price\"].sum()/number_of_purchases\n",
    "#Obtain total revenue\n",
    "total_revenue = purchase_data_df[\"Price\"].sum()\n",
    "\n",
    "#Create DataFrame using Dictionary of Arrays  \n",
    "purchasing_analysis = pd.DataFrame({\n",
    "    \"Number of Unique Items\":unique_items,\n",
    "    \"Average Price\": average_price,\n",
    "    \"Number of Purchases\":number_of_purchases,\n",
    "    \"Total Revenue\":[total_revenue]\n",
    "})\n",
    "#Formating the Price \n",
    "purchasing_analysis[\"Average Price\"] = purchasing_analysis[\"Average Price\"].map(\"${:.2f}\".format)\n",
    "purchasing_analysis[\"Total Revenue\"] = purchasing_analysis[\"Total Revenue\"].map(\"${:.2f}\".format)\n",
    "\n",
    "purchasing_analysis"
   ]
  },
  {
   "cell_type": "markdown",
   "metadata": {},
   "source": [
    "## Gender Demographics"
   ]
  },
  {
   "cell_type": "markdown",
   "metadata": {},
   "source": [
    "* Percentage and Count of Male Players\n",
    "\n",
    "\n",
    "* Percentage and Count of Female Players\n",
    "\n",
    "\n",
    "* Percentage and Count of Other / Non-Disclosed\n",
    "\n",
    "\n"
   ]
  },
  {
   "cell_type": "code",
   "execution_count": null,
   "metadata": {},
   "outputs": [],
   "source": [
    "#Creating dataframe for SN , Gender column and remove duplicate\n",
    "gender_name_df = pd.DataFrame(purchase_data_df, columns=[\"SN\",\"Gender\"]).drop_duplicates()\n",
    "#Count the player with gender after removing duplicates\n",
    "gender_count = gender_name_df[\"Gender\"].value_counts()\n",
    "gender_percentage = round((gender_name_df[\"Gender\"].value_counts()/len(gender_name_df[\"Gender\"]))*100,2)\n",
    "data_gender = {\"Total Count\":gender_count,\"Percentage of Players\":gender_percentage}\n",
    "#Create new dataframe for Gender Demographics results\n",
    "gender_demographics = pd.DataFrame(data_gender)\n",
    "gender_demographics"
   ]
  },
  {
   "cell_type": "markdown",
   "metadata": {},
   "source": [
    "\n",
    "## Purchasing Analysis (Gender)"
   ]
  },
  {
   "cell_type": "markdown",
   "metadata": {},
   "source": [
    "* Run basic calculations to obtain purchase count, avg. purchase price, avg. purchase total per person etc. by gender\n",
    "\n",
    "\n",
    "\n",
    "\n",
    "* Create a summary data frame to hold the results\n",
    "\n",
    "\n",
    "* Optional: give the displayed data cleaner formatting\n",
    "\n",
    "\n",
    "* Display the summary data frame"
   ]
  },
  {
   "cell_type": "code",
   "execution_count": null,
   "metadata": {},
   "outputs": [],
   "source": [
    "#Grouping of purchase count by gender\n",
    "purchase_count = purchase_data_df.groupby([\"Gender\"])[\"Purchase ID\"].count()\n",
    "#Calculate average purchase count\n",
    "avg_purchase_price = round(purchase_data_df.groupby([\"Gender\"])[\"Price\"].mean(),2)\n",
    "total_purchase_value = purchase_data_df.groupby([\"Gender\"])[\"Price\"].sum()\n",
    "player_count_by_gender = purchase_data_df.groupby([\"Gender\"])[\"SN\"].count()\n",
    "avg_purchase_total_per_person = round(total_purchase_value/gender_count,2)\n",
    "\n",
    "#Get new dataframe for Purchasing Analysis\n",
    "purchasing_analysis = pd.DataFrame({\n",
    "    \"Purchase Count\": purchase_count,\n",
    "    \"Average Purchase Price\": avg_purchase_price,\n",
    "    \"Total Purchase Value\": total_purchase_value.map(\"${:.2f}\".format),\n",
    "    \"Avg Total Purchase per Person\": avg_purchase_total_per_person.map(\"${:.2f}\".format)\n",
    "})\n",
    "#Formating of price results\n",
    "purchasing_analysis[\"Average Purchase Price\"] = purchasing_analysis[\"Average Purchase Price\"].map(\"${:.2f}\".format)\n",
    "purchasing_analysis"
   ]
  },
  {
   "cell_type": "markdown",
   "metadata": {},
   "source": [
    "## Age Demographics"
   ]
  },
  {
   "cell_type": "markdown",
   "metadata": {},
   "source": [
    "* Establish bins for ages\n",
    "\n",
    "\n",
    "* Categorize the existing players using the age bins. Hint: use pd.cut()\n",
    "\n",
    "\n",
    "* Calculate the numbers and percentages by age group\n",
    "\n",
    "\n",
    "* Create a summary data frame to hold the results\n",
    "\n",
    "\n",
    "* Optional: round the percentage column to two decimal points\n",
    "\n",
    "\n",
    "* Display Age Demographics Table\n"
   ]
  },
  {
   "cell_type": "code",
   "execution_count": null,
   "metadata": {},
   "outputs": [],
   "source": [
    "#This is to define the bins\n",
    "bins = [1, 9, 14, 19, 24, 29, 34, 39, 90]\n",
    "#Define the groups of the bins\n",
    "group_names = [\"<10\",\"10-14\",\"15-19\", \"20-24\", \"25-29\", \"30-34\", \"35-39\", \"40+\"]\n",
    "\n",
    "#Categorize the existing players using the age bins.\n",
    "purchase_data_df[\"age_group\"] = pd.cut(purchase_data_df[\"Age\"], bins, labels=group_names)\n",
    "#Create new dataframe and remove the duplicate rows\n",
    "age_group_df = pd.DataFrame(purchase_data_df, columns = [\"SN\",\"age_group\"]).drop_duplicates()\n",
    "\n",
    "#Calculate the numbers by age group\n",
    "numbers_by_age_group = age_group_df[\"age_group\"].value_counts()\n",
    "\n",
    "#Calculate the percentages by age group\n",
    "percentages_by_age_group = round(((numbers_by_age_group/player_count)*100),2)\n",
    "\n",
    "#Create new datframe for the Age Demographics results\n",
    "age_demographics = pd.DataFrame({\n",
    "    \"Total Count\": numbers_by_age_group,\n",
    "    \"Percentage of Players\":percentages_by_age_group\n",
    "})\n",
    "age_demographics = age_demographics.sort_index(0, ascending= True)\n",
    "age_demographics"
   ]
  },
  {
   "cell_type": "markdown",
   "metadata": {},
   "source": [
    "## Purchasing Analysis (Age)"
   ]
  },
  {
   "cell_type": "markdown",
   "metadata": {},
   "source": [
    "* Bin the purchase_data data frame by age\n",
    "\n",
    "\n",
    "* Run basic calculations to obtain purchase count, avg. purchase price, avg. purchase total per person etc. in the table below\n",
    "\n",
    "\n",
    "* Create a summary data frame to hold the results\n",
    "\n",
    "\n",
    "* Optional: give the displayed data cleaner formatting\n",
    "\n",
    "\n",
    "* Display the summary data frame"
   ]
  },
  {
   "cell_type": "code",
   "execution_count": null,
   "metadata": {},
   "outputs": [],
   "source": [
    "#This is to define the bins\n",
    "bins = [1, 9, 14, 19, 24, 29, 34, 39, 90]\n",
    "#Define the groups of the bins\n",
    "group_names = [\"<10\",\"10-14\",\"15-19\", \"20-24\", \"25-29\", \"30-34\", \"35-39\", \"40+\"]\n",
    "\n",
    "#Categorize the existing players using the age bins.\n",
    "purchase_data_df[\"age_group\"] = pd.cut(purchase_data_df[\"Age\"], bins, labels=group_names)\n",
    "\n",
    "#Create new dataframe\n",
    "purchase_data_age_group_df = pd.DataFrame(purchase_data_df, columns = [\"SN\",\"age_group\", \"Price\"])#.drop_duplicates()\n",
    "\n",
    "#Get Series for Purchase count by age\n",
    "purchase_count = purchase_data_age_group_df.groupby([\"age_group\"])[\"Price\"].count()\n",
    "#purchase_count = purchase_data_age_group_df[\"age_group\"].value_counts()\n",
    "\n",
    "# Get Series for Average Price in age group\n",
    "purchase_price_by_age_group = purchase_data_age_group_df.groupby([\"age_group\"])[\"Price\"].sum()\n",
    "avg_purchase_price =  round((purchase_price_by_age_group/purchase_count),2) \n",
    "\n",
    "player_count_by_age_group = purchase_data_age_group_df.groupby([\"age_group\"])[\"SN\"].count()\n",
    "#Format the price data and add $ sign\n",
    "avg_total_purchase_per_person = purchase_price_by_age_group/numbers_by_age_group\n",
    "\n",
    "#Create Datafranme for Ourchasung Analysis\n",
    "purchasing_analysis = pd.DataFrame({\n",
    "    \"Purchase Count\": purchase_count,\n",
    "    \"Average Purchase Price\": avg_purchase_price.map(\"${:.2f}\".format),\n",
    "    \"Total Purchase Value\": purchase_price_by_age_group.map(\"${:.2f}\".format),\n",
    "    \"Avg Total Purchase per Person\": avg_total_purchase_per_person.map(\"${:.2f}\".format)\n",
    "})\n",
    "\n",
    "purchasing_analysis"
   ]
  },
  {
   "cell_type": "markdown",
   "metadata": {},
   "source": [
    "## Top Spenders"
   ]
  },
  {
   "cell_type": "markdown",
   "metadata": {},
   "source": [
    "* Run basic calculations to obtain the results in the table below\n",
    "\n",
    "\n",
    "* Create a summary data frame to hold the results\n",
    "\n",
    "\n",
    "* Sort the total purchase value column in descending order\n",
    "\n",
    "\n",
    "* Optional: give the displayed data cleaner formatting\n",
    "\n",
    "\n",
    "* Display a preview of the summary data frame\n"
   ]
  },
  {
   "cell_type": "code",
   "execution_count": null,
   "metadata": {},
   "outputs": [],
   "source": [
    "purchase_count = purchase_data_df.groupby([\"SN\"])[\"Item ID\"].count()\n",
    "total_purchase_value = purchase_data_df.groupby([\"SN\"])[\"Price\"].sum()\n",
    "avg_purchase_price =  round((total_purchase_value/purchase_count),2) \n",
    "\n",
    "#Create a summary data frame to hold the results\n",
    "top_spenders = pd.DataFrame({\n",
    "    \"Purchase Count\": purchase_count,\n",
    "     \"Average Purchase Price\": avg_purchase_price,\n",
    "     \"Total Purchase Value\": total_purchase_value\n",
    "})\n",
    "\n",
    "# Sort the total purchase value column in descending order\n",
    "top_spenders = top_spenders.sort_values(\"Total Purchase Value\", ascending= False)\n",
    "top_spenders[\"Average Purchase Price\"] = top_spenders[\"Average Purchase Price\"].map(\"${:.2f}\".format)\n",
    "top_spenders[\"Total Purchase Value\"] = top_spenders[\"Total Purchase Value\"].map(\"${:.2f}\".format)\n",
    "# Display a preview of the summary data frame\n",
    "top_spenders.head()"
   ]
  },
  {
   "cell_type": "markdown",
   "metadata": {},
   "source": [
    "## Most Popular Items"
   ]
  },
  {
   "cell_type": "markdown",
   "metadata": {},
   "source": [
    "* Retrieve the Item ID, Item Name, and Item Price columns\n",
    "\n",
    "\n",
    "* Group by Item ID and Item Name. Perform calculations to obtain purchase count, item price, and total purchase value\n",
    "\n",
    "\n",
    "* Create a summary data frame to hold the results\n",
    "\n",
    "\n",
    "* Sort the purchase count column in descending order\n",
    "\n",
    "\n",
    "* Optional: give the displayed data cleaner formatting\n",
    "\n",
    "\n",
    "* Display a preview of the summary data frame\n",
    "\n"
   ]
  },
  {
   "cell_type": "code",
   "execution_count": null,
   "metadata": {},
   "outputs": [],
   "source": [
    "# Retrieve the Item ID, Item Name, and Item Price columns\n",
    "popular_items_df = pd.DataFrame(purchase_data_df, columns =[\"Item ID\",\"Item Name\",\"Price\"])\n",
    "#Get Series for Purchase count by Item ID and Item Name\n",
    "purchase_count = popular_items_df.groupby([\"Item ID\", \"Item Name\"])[\"Price\"].count() ##get series for items price\n",
    "total_purchase_value = round(purchase_data_df.groupby([\"Item ID\", \"Item Name\"])[\"Price\"].sum(),2)\n",
    "item_price = round(purchase_data_df.groupby([\"Item ID\",\"Item Name\"])[\"Price\"].mean(),2)\n",
    "most_popular_items = pd.DataFrame({\n",
    "    \"Purchase Count\": purchase_count,\n",
    "    \"Item Price\": item_price.map(\"${:.2f}\".format),\n",
    "    \"Total Purchase Value\":total_purchase_value\n",
    "})\n",
    "\n",
    "# Sort the purchase count column in descending order\n",
    "most_popular_items_sortby_pc = most_popular_items.sort_values(\"Purchase Count\", ascending= False)\n",
    "most_popular_items_sortby_pc [\"Total Purchase Value\"] = most_popular_items_sortby_pc [\"Total Purchase Value\"].map(\"${:.2f}\".format)\n",
    "# Display a preview of the summary data frame\n",
    "most_popular_items_sortby_pc .head()"
   ]
  },
  {
   "cell_type": "markdown",
   "metadata": {},
   "source": [
    "## Most Profitable Items"
   ]
  },
  {
   "cell_type": "markdown",
   "metadata": {},
   "source": [
    "* Sort the above table by total purchase value in descending order\n",
    "\n",
    "\n",
    "* Optional: give the displayed data cleaner formatting\n",
    "\n",
    "\n",
    "* Display a preview of the data frame\n",
    "\n"
   ]
  },
  {
   "cell_type": "code",
   "execution_count": null,
   "metadata": {
    "scrolled": true
   },
   "outputs": [],
   "source": [
    "#Sort the table by total purchase value in descending order\n",
    "most_profitable_items = most_popular_items.sort_values(\"Total Purchase Value\", ascending= False)\n",
    "most_profitable_items[\"Total Purchase Value\"] = most_profitable_items[\"Total Purchase Value\"].map(\"${:.2f}\".format)\n",
    "\n",
    "# Display a preview of the data frame\n",
    "most_profitable_items.head()"
   ]
  }
 ],
 "metadata": {
  "anaconda-cloud": {},
  "kernel_info": {
   "name": "python3"
  },
  "kernelspec": {
   "display_name": "Python 3",
   "language": "python",
   "name": "python3"
  },
  "language_info": {
   "codemirror_mode": {
    "name": "ipython",
    "version": 3
   },
   "file_extension": ".py",
   "mimetype": "text/x-python",
   "name": "python",
   "nbconvert_exporter": "python",
   "pygments_lexer": "ipython3",
   "version": "3.6.9"
  },
  "nteract": {
   "version": "0.2.0"
  }
 },
 "nbformat": 4,
 "nbformat_minor": 2
}
